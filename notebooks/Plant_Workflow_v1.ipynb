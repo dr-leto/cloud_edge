{
  "nbformat": 4,
  "nbformat_minor": 0,
  "metadata": {
    "colab": {
      "provenance": []
    },
    "kernelspec": {
      "name": "python3",
      "display_name": "Python 3"
    },
    "language_info": {
      "name": "python"
    }
  },
  "cells": [
    {
      "cell_type": "code",
      "execution_count": null,
      "metadata": {
        "colab": {
          "base_uri": "https://localhost:8080/"
        },
        "id": "gwnlTBKs4m0u",
        "outputId": "4abab834-56e0-48e2-cb05-c6936c043fba"
      },
      "outputs": [
        {
          "output_type": "stream",
          "name": "stdout",
          "text": [
            "Mounted at /content/drive\n"
          ]
        }
      ],
      "source": [
        "from google.colab import drive\n",
        "\n",
        "# Mount Google Drive\n",
        "drive.mount('/content/drive')"
      ]
    },
    {
      "cell_type": "code",
      "source": [
        "import os\n",
        "from PIL import Image\n",
        "\n",
        "from io import BytesIO\n"
      ],
      "metadata": {
        "id": "1NNqZ2S446Iq"
      },
      "execution_count": null,
      "outputs": []
    },
    {
      "cell_type": "markdown",
      "source": [
        "##Canny edge Detection Workflow"
      ],
      "metadata": {
        "id": "zFI3YIlb5Is_"
      }
    },
    {
      "cell_type": "code",
      "source": [
        "!pip install reportlab"
      ],
      "metadata": {
        "colab": {
          "base_uri": "https://localhost:8080/",
          "height": 337
        },
        "id": "NZUqQaJW5L3j",
        "outputId": "d09c7baf-59fe-4a6f-c314-68a0dd958b21"
      },
      "execution_count": null,
      "outputs": [
        {
          "output_type": "stream",
          "name": "stdout",
          "text": [
            "Looking in indexes: https://pypi.org/simple, https://us-python.pkg.dev/colab-wheels/public/simple/\n",
            "Collecting reportlab\n",
            "  Downloading reportlab-4.0.4-py3-none-any.whl (1.9 MB)\n",
            "\u001b[2K     \u001b[90m━━━━━━━━━━━━━━━━━━━━━━━━━━━━━━━━━━━━━━━━\u001b[0m \u001b[32m1.9/1.9 MB\u001b[0m \u001b[31m25.0 MB/s\u001b[0m eta \u001b[36m0:00:00\u001b[0m\n",
            "\u001b[?25hCollecting pillow>=9.0.0 (from reportlab)\n",
            "  Downloading Pillow-9.5.0-cp310-cp310-manylinux_2_28_x86_64.whl (3.4 MB)\n",
            "\u001b[2K     \u001b[90m━━━━━━━━━━━━━━━━━━━━━━━━━━━━━━━━━━━━━━━━\u001b[0m \u001b[32m3.4/3.4 MB\u001b[0m \u001b[31m81.3 MB/s\u001b[0m eta \u001b[36m0:00:00\u001b[0m\n",
            "\u001b[?25hInstalling collected packages: pillow, reportlab\n",
            "  Attempting uninstall: pillow\n",
            "    Found existing installation: Pillow 8.4.0\n",
            "    Uninstalling Pillow-8.4.0:\n",
            "      Successfully uninstalled Pillow-8.4.0\n",
            "Successfully installed pillow-9.5.0 reportlab-4.0.4\n"
          ]
        },
        {
          "output_type": "display_data",
          "data": {
            "application/vnd.colab-display-data+json": {
              "pip_warning": {
                "packages": [
                  "PIL"
                ]
              }
            }
          },
          "metadata": {}
        }
      ]
    },
    {
      "cell_type": "code",
      "source": [
        "import os\n",
        "import csv\n",
        "import numpy as np\n",
        "from skimage.io import imread\n",
        "from skimage.color import rgb2gray\n",
        "from scipy.ndimage import gaussian_filter\n",
        "from skimage import img_as_float\n",
        "from skimage.feature import canny\n",
        "from skimage import morphology\n",
        "from skimage.morphology import reconstruction\n",
        "from skimage.measure import label\n",
        "from reportlab.lib.pagesizes import letter\n",
        "from reportlab.pdfgen import canvas\n"
      ],
      "metadata": {
        "id": "GEsmxVY45SKK"
      },
      "execution_count": null,
      "outputs": []
    },
    {
      "cell_type": "code",
      "source": [
        "# Define the folder path containing the images in Google Drive\n",
        "image_folder_path = '/content/drive/MyDrive/Babyroom_BGR'"
      ],
      "metadata": {
        "id": "2-g_kw2E5Vxq"
      },
      "execution_count": null,
      "outputs": []
    },
    {
      "cell_type": "markdown",
      "source": [
        "##Canny Edge Detection Workflow"
      ],
      "metadata": {
        "id": "9QOumAloEa8g"
      }
    },
    {
      "cell_type": "code",
      "source": [
        "# Create a list to store the leaf counts\n",
        "leaf_counts = []\n",
        "\n",
        "# Iterate over each image in the folder\n",
        "for filename in os.listdir(image_folder_path):\n",
        "    if filename.endswith(\".png\") or filename.endswith(\".jpg\"):\n",
        "        # Split the filename by \"_\" and extract the required components\n",
        "        components = filename.split(\"_\")\n",
        "        plant_name = components[0]\n",
        "        date, month, year, time = components[1:5]\n",
        "        camera_name = components[5].split(\".\")[0]\n",
        "\n",
        "        datetime_str = f\"{date}_{month}_{year}\"\n",
        "\n",
        "        # Read the image\n",
        "        image_path = os.path.join(image_folder_path, filename)\n",
        "        im = imread(image_path)\n",
        "\n",
        "        # Convert the image to 3 channels (RGB)\n",
        "        rgb_image = im[:, :, :3]\n",
        "\n",
        "        # Convert to float: Important for subtraction later which won't work with uint8\n",
        "        image = img_as_float(rgb_image)\n",
        "\n",
        "        # Apply preprocessing operations\n",
        "        image = gaussian_filter(image, 1)\n",
        "        seed = np.copy(image)\n",
        "        seed[1:-1, 1:-1] = image.min()\n",
        "        mask = image\n",
        "        dilated = reconstruction(seed, mask, method='dilation')\n",
        "        grayscale_dilated = rgb2gray(dilated)\n",
        "        edges1 = canny(grayscale_dilated, sigma=1)\n",
        "        edges_smooth = morphology.dilation(edges1, morphology.disk(5))\n",
        "        edges_smooth = morphology.erosion(edges_smooth, morphology.disk(5))\n",
        "        labels = label(edges_smooth, connectivity=2)\n",
        "        num_leaves = len(np.unique(labels)) - 1\n",
        "\n",
        "        # Store the leaf count with the plant name, datetime, time, count, and camera name\n",
        "        leaf_counts.append((plant_name, datetime_str, time, num_leaves, camera_name))\n",
        "\n",
        "# Sort the leaf counts based on plant name\n",
        "leaf_counts.sort(key=lambda x: x[0])\n",
        "\n",
        "# Define the path to the CSV file\n",
        "csv_file_path = '/content/drive/MyDrive/leaf_counts_babyroom_cany.csv'\n",
        "\n",
        "# Save the leaf counts in the CSV file\n",
        "with open(csv_file_path, 'w', newline='') as file:\n",
        "    writer = csv.writer(file)\n",
        "    writer.writerow(['Plant Name', 'Date_Month_Year', 'Time', 'Leaf Count', 'Camera Name'])\n",
        "    for plant_name, datetime_str, time, count, camera_name in leaf_counts:\n",
        "        writer.writerow([plant_name, datetime_str, time, count, camera_name])\n",
        "\n",
        "print(\"Sorted leaf counts saved to CSV file.\")"
      ],
      "metadata": {
        "colab": {
          "base_uri": "https://localhost:8080/"
        },
        "id": "-hbwa9yuC7ek",
        "outputId": "4680e79a-b9be-489e-caba-66d7722b4e14"
      },
      "execution_count": null,
      "outputs": [
        {
          "output_type": "stream",
          "name": "stdout",
          "text": [
            "Sorted leaf counts saved to CSV file.\n"
          ]
        }
      ]
    },
    {
      "cell_type": "markdown",
      "source": [
        "##Region Growing Workflow"
      ],
      "metadata": {
        "id": "uYiRYjJEEgx9"
      }
    },
    {
      "cell_type": "code",
      "source": [
        "import os\n",
        "import csv\n",
        "from skimage.io import imread\n",
        "from skimage.color import rgb2gray\n",
        "from skimage.feature import peak_local_max\n",
        "from skimage.filters import sobel\n",
        "from skimage.filters import gaussian\n",
        "from skimage.filters import threshold_otsu\n",
        "from datetime import datetime"
      ],
      "metadata": {
        "id": "9reDEiKFEgRK"
      },
      "execution_count": null,
      "outputs": []
    },
    {
      "cell_type": "code",
      "source": [
        "# Path to the folder containing the image files\n",
        "folder_path = '/content/drive/MyDrive/Babyroom_BGR'\n",
        "\n",
        "# Create a new CSV file to store the results\n",
        "csv_file = 'leaf_count_results_markers_babyroom.csv'\n",
        "# Create the CSV file and write the header row\n",
        "with open(csv_file, 'w', newline='') as file:\n",
        "    writer = csv.writer(file)\n",
        "    writer.writerow(['Plant', 'Date_Month_Year', 'Time', 'Leaf Count'])\n",
        "\n",
        "# Iterate through each file in the folder\n",
        "for filename in os.listdir(folder_path):\n",
        "    # Check if the file is an image file\n",
        "    if filename.endswith('.png') or filename.endswith('.jpg') or filename.endswith('.jpeg'):\n",
        "        # Extract plant name, date, month, year, time from the filename\n",
        "        parts = filename.split('_')\n",
        "        plant_name = parts[0]\n",
        "        date = parts[1]\n",
        "        month = parts[2]\n",
        "        year = parts[3]\n",
        "        time = parts[4][:2]  # Extract the first two characters for the hour\n",
        "\n",
        "        # Read the image file\n",
        "        image_path = os.path.join(folder_path, filename)\n",
        "        image = imread(image_path)\n",
        "\n",
        "        # Perform the operations on the image\n",
        "        rgb_image = image[:, :, :3]\n",
        "        im_ = gaussian(rgb_image, sigma=1)\n",
        "        br = sobel(im_[:,:,0])\n",
        "        bg = sobel(im_[:,:,1])\n",
        "        bb = sobel(im_[:,:,2])\n",
        "        brgb = br + bg + bb\n",
        "        markers = peak_local_max(brgb.max() - brgb, threshold_rel=0.99, min_distance=40)\n",
        "        gray_image = rgb2gray(rgb_image)\n",
        "        threshold = threshold_otsu(gray_image)\n",
        "        binary_mask = gray_image > threshold\n",
        "        foreground_markers = peak_local_max(brgb.max() - brgb, threshold_rel=0.992, min_distance=40, labels=binary_mask)\n",
        "        foreground_marker_count = len(foreground_markers)\n",
        "\n",
        "        # Perform leaf counting and store the count in a variable\n",
        "        leaf_count = foreground_marker_count  # Replace with your leaf counting logic\n",
        "\n",
        "        # Get the current date and time\n",
        "        now = datetime.now()\n",
        "        current_date = now.strftime('%d_%m_%Y')\n",
        "        current_time = now.strftime('%H:%M:%S')\n",
        "\n",
        "        # Append the results to the CSV file\n",
        "        with open(csv_file, 'a', newline='') as file:\n",
        "            writer = csv.writer(file)\n",
        "            writer.writerow([plant_name, f'{date}_{month}_{year}', time, leaf_count])"
      ],
      "metadata": {
        "colab": {
          "base_uri": "https://localhost:8080/"
        },
        "id": "iYvJfcZWEv7R",
        "outputId": "0fffe554-992b-4b40-87cf-f0c0a5461952"
      },
      "execution_count": null,
      "outputs": [
        {
          "output_type": "stream",
          "name": "stderr",
          "text": [
            "/usr/local/lib/python3.10/dist-packages/skimage/_shared/utils.py:348: RuntimeWarning: Images with dimensions (M, N, 3) are interpreted as 2D+RGB by default. Use `multichannel=False` to interpret as 3D image with last dimension of length 3.\n",
            "  return func(*args, **kwargs)\n"
          ]
        }
      ]
    }
  ]
}